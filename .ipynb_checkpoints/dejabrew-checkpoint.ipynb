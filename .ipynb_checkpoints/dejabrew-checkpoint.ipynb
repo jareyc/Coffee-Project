{
 "cells": [
  {
   "cell_type": "code",
   "execution_count": 12,
   "id": "6a1a8551",
   "metadata": {},
   "outputs": [],
   "source": [
    "from urllib.request import Request, urlopen\n",
    "import requests\n",
    "from bs4 import BeautifulSoup\n",
    "import time\n",
    "import pandas as pd\n",
    "import re\n",
    "import random"
   ]
  },
  {
   "cell_type": "code",
   "execution_count": 2,
   "id": "3c839257",
   "metadata": {},
   "outputs": [],
   "source": [
    "# WARNING: DO NOT REPEATEDLY RUN THIS CELL. DOING SO MAY HAVE US BLOCKED FROM THE WEBSITE\n",
    "url = \"https://www.coffeereview.com/review/?locations=na\"\n",
    "\n",
    "req = Request(url, headers={'User-Agent': 'Mozilla/5.0'})\n",
    "html = urlopen(req).read()\n",
    "\n",
    "soup = BeautifulSoup(html, 'html.parser')\n",
    "time.sleep(5)"
   ]
  },
  {
   "cell_type": "code",
   "execution_count": 13,
   "id": "774796f4",
   "metadata": {},
   "outputs": [
    {
     "name": "stdout",
     "output_type": "stream",
     "text": [
      "Opening URL:  https://www.coffeereview.com/review/lugmapata-ecuador/\n",
      "Opening URL:  https://www.coffeereview.com/review/red-sunset-by-andres-cardona/\n",
      "DONE\n"
     ]
    }
   ],
   "source": [
    "# WARNING: DO NOT REPEATEDLY RUN THIS CELL. DOING SO MAY HAVE US BLOCKED FROM THE WEBSITE\n",
    "#curr_review = soup.find_all(class_=\"review-template\")[1]\n",
    "coffee_df = pd.DataFrame()\n",
    "counter = 0\n",
    "\n",
    "for curr_review in soup.find_all(class_=\"review-template\"):\n",
    "        \n",
    "    if counter == 2:\n",
    "        break\n",
    "        \n",
    "    review_url = curr_review.find_all('a', href=True)[3]['href']\n",
    "\n",
    "    review_req = Request(review_url, headers={'User-Agent': 'Mozilla/5.0'})\n",
    "    review_html = urlopen(review_req).read()\n",
    "\n",
    "    review_soup = BeautifulSoup(review_html, 'html.parser')\n",
    "    print(\"Opening URL: \", review_url)\n",
    "    \n",
    "    time.sleep(random.randint(3, 7)) # DELAY NEEDED TO AVOID GETTING BLOCKED\n",
    "\n",
    "    attributes = {}\n",
    "\n",
    "    name = review_soup.find(\"h1\", class_=\"review-title\").get_text()\n",
    "    attributes[\"Name\"] = name\n",
    "\n",
    "    rating = review_soup.find('span', class_=\"review-template-rating\").get_text()\n",
    "    attributes[\"Rating\"] = rating\n",
    "\n",
    "    i = 1\n",
    "    curr_attribute = \"\"\n",
    "    for tag in review_soup.find_all(class_=\"review-template-table\")[0].find_all('td'):\n",
    "        if i % 2 == 1:\n",
    "            curr_attribute = tag.get_text()[:-1]\n",
    "        else:\n",
    "            attributes[curr_attribute] = tag.get_text()\n",
    "        i = i + 1\n",
    "\n",
    "    i = 1\n",
    "    curr_attribute = \"\"\n",
    "    for tag in review_soup.find_all(class_=\"review-template-table\")[1].find_all('td'):\n",
    "        if i % 2 == 1:\n",
    "            curr_attribute = tag.get_text()[:-1]\n",
    "        else:\n",
    "            value = re.sub('\\s+', '', tag.get_text())\n",
    "            attributes[curr_attribute] = value\n",
    "        i = i + 1\n",
    "\n",
    "\n",
    "    coffee_df = coffee_df.append(attributes, ignore_index=True)\n",
    "\n",
    "    counter = counter + 1\n",
    "    \n",
    "print(\"DONE\")"
   ]
  },
  {
   "cell_type": "code",
   "execution_count": 14,
   "id": "7f0d1d19",
   "metadata": {},
   "outputs": [
    {
     "data": {
      "text/html": [
       "<div>\n",
       "<style scoped>\n",
       "    .dataframe tbody tr th:only-of-type {\n",
       "        vertical-align: middle;\n",
       "    }\n",
       "\n",
       "    .dataframe tbody tr th {\n",
       "        vertical-align: top;\n",
       "    }\n",
       "\n",
       "    .dataframe thead th {\n",
       "        text-align: right;\n",
       "    }\n",
       "</style>\n",
       "<table border=\"1\" class=\"dataframe\">\n",
       "  <thead>\n",
       "    <tr style=\"text-align: right;\">\n",
       "      <th></th>\n",
       "      <th>Name</th>\n",
       "      <th>Rating</th>\n",
       "      <th>Roaster Location</th>\n",
       "      <th>Coffee Origin</th>\n",
       "      <th>Roast Level</th>\n",
       "      <th>Agtron</th>\n",
       "      <th>Est. Price</th>\n",
       "      <th>Review Date</th>\n",
       "      <th>Aroma</th>\n",
       "      <th>Acidity/Structure</th>\n",
       "      <th>Body</th>\n",
       "      <th>Flavor</th>\n",
       "      <th>Aftertaste</th>\n",
       "    </tr>\n",
       "  </thead>\n",
       "  <tbody>\n",
       "    <tr>\n",
       "      <th>0</th>\n",
       "      <td>Lugmapata Ecuador</td>\n",
       "      <td>95</td>\n",
       "      <td>Madison, Wisconsin</td>\n",
       "      <td>Pallatanga, Chimborazo Province, Ecuador</td>\n",
       "      <td>Medium-Light</td>\n",
       "      <td>60/80</td>\n",
       "      <td>$18.00/8 ounces</td>\n",
       "      <td>March2022</td>\n",
       "      <td>9</td>\n",
       "      <td>9</td>\n",
       "      <td>9</td>\n",
       "      <td>9</td>\n",
       "      <td>9</td>\n",
       "    </tr>\n",
       "    <tr>\n",
       "      <th>1</th>\n",
       "      <td>Red Sunset by Andres Cardona</td>\n",
       "      <td>94</td>\n",
       "      <td>San Diego, California</td>\n",
       "      <td>Santa Bárbara, Antioquia Department, Colombia</td>\n",
       "      <td>Medium-Light</td>\n",
       "      <td>55/73</td>\n",
       "      <td>$24.00/12 ounces</td>\n",
       "      <td>March2022</td>\n",
       "      <td>9</td>\n",
       "      <td>9</td>\n",
       "      <td>9</td>\n",
       "      <td>9</td>\n",
       "      <td>8</td>\n",
       "    </tr>\n",
       "  </tbody>\n",
       "</table>\n",
       "</div>"
      ],
      "text/plain": [
       "                           Name Rating       Roaster Location  \\\n",
       "0             Lugmapata Ecuador     95     Madison, Wisconsin   \n",
       "1  Red Sunset by Andres Cardona     94  San Diego, California   \n",
       "\n",
       "                                   Coffee Origin   Roast Level Agtron  \\\n",
       "0       Pallatanga, Chimborazo Province, Ecuador  Medium-Light  60/80   \n",
       "1  Santa Bárbara, Antioquia Department, Colombia  Medium-Light  55/73   \n",
       "\n",
       "         Est. Price Review Date Aroma Acidity/Structure Body Flavor Aftertaste  \n",
       "0   $18.00/8 ounces   March2022     9                 9    9      9          9  \n",
       "1  $24.00/12 ounces   March2022     9                 9    9      9          8  "
      ]
     },
     "execution_count": 14,
     "metadata": {},
     "output_type": "execute_result"
    }
   ],
   "source": [
    "coffee_df"
   ]
  },
  {
   "cell_type": "markdown",
   "id": "6e24add6",
   "metadata": {},
   "source": [
    "# "
   ]
  }
 ],
 "metadata": {
  "kernelspec": {
   "display_name": "Python 3 (ipykernel)",
   "language": "python",
   "name": "python3"
  },
  "language_info": {
   "codemirror_mode": {
    "name": "ipython",
    "version": 3
   },
   "file_extension": ".py",
   "mimetype": "text/x-python",
   "name": "python",
   "nbconvert_exporter": "python",
   "pygments_lexer": "ipython3",
   "version": "3.8.12"
  }
 },
 "nbformat": 4,
 "nbformat_minor": 5
}
