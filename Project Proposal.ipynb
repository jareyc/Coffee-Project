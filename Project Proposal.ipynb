{
 "cells": [
  {
   "cell_type": "markdown",
   "id": "bb03ac69",
   "metadata": {},
   "source": [
    "### Basic Info\n",
    "\n",
    "Project Title: Deja Brew\n",
    "\n",
    "Names: Ja-Rey Corcuera & Brianna Mendoza\n",
    "\n",
    "Emails: u1156525@utah.edu & u1189033@utah.edu\n",
    "\n",
    "UID’s: u1156525 & u1189033"
   ]
  },
  {
   "cell_type": "markdown",
   "id": "70f9b309",
   "metadata": {},
   "source": [
    "### Background and Motivation"
   ]
  },
  {
   "cell_type": "markdown",
   "id": "b3f5421c",
   "metadata": {},
   "source": [
    "### Project Objectives"
   ]
  },
  {
   "cell_type": "markdown",
   "id": "c5cdd75e",
   "metadata": {},
   "source": [
    "### Data"
   ]
  },
  {
   "cell_type": "markdown",
   "id": "4675943e",
   "metadata": {},
   "source": [
    "### Ethical Considerations"
   ]
  },
  {
   "cell_type": "markdown",
   "id": "aebbddbd",
   "metadata": {},
   "source": [
    "### Data Processing"
   ]
  },
  {
   "cell_type": "markdown",
   "id": "a5e73569",
   "metadata": {},
   "source": [
    "### Exploratory Analysis and Methodology"
   ]
  },
  {
   "cell_type": "markdown",
   "id": "25d84373",
   "metadata": {},
   "source": [
    "### Project Schedule"
   ]
  },
  {
   "cell_type": "code",
   "execution_count": null,
   "id": "6519d59f",
   "metadata": {},
   "outputs": [],
   "source": []
  }
 ],
 "metadata": {
  "kernelspec": {
   "display_name": "Python 3 (ipykernel)",
   "language": "python",
   "name": "python3"
  },
  "language_info": {
   "codemirror_mode": {
    "name": "ipython",
    "version": 3
   },
   "file_extension": ".py",
   "mimetype": "text/x-python",
   "name": "python",
   "nbconvert_exporter": "python",
   "pygments_lexer": "ipython3",
   "version": "3.8.12"
  }
 },
 "nbformat": 4,
 "nbformat_minor": 5
}
